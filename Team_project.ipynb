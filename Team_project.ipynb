{
  "nbformat": 4,
  "nbformat_minor": 0,
  "metadata": {
    "colab": {
      "name": "Team project.ipynb",
      "provenance": [],
      "collapsed_sections": [],
      "authorship_tag": "ABX9TyOAF8cifvLYSQuTAd7ehEyC",
      "include_colab_link": true
    },
    "kernelspec": {
      "name": "python3",
      "display_name": "Python 3"
    },
    "language_info": {
      "name": "python"
    }
  },
  "cells": [
    {
      "cell_type": "markdown",
      "metadata": {
        "id": "view-in-github",
        "colab_type": "text"
      },
      "source": [
        "<a href=\"https://colab.research.google.com/github/futureCodersSE/python-fundamentals/blob/main/Team_project.ipynb\" target=\"_parent\"><img src=\"https://colab.research.google.com/assets/colab-badge.svg\" alt=\"Open In Colab\"/></a>"
      ]
    },
    {
      "cell_type": "markdown",
      "source": [
        "# End of course team project\n",
        "---\n",
        "\n"
      ],
      "metadata": {
        "id": "5ztYzuPl9jIf"
      }
    },
    {
      "cell_type": "markdown",
      "source": [
        "All over the country, there are air monitoring stations collecting data on levels of a range of pollutants.  We have downloaded a set of data from the monitoring station at Chatham Roadside (Kent).  This station seems to be monitoring:  \n",
        "\n",
        "*  Nitric Oxide\n",
        "*  Nitrogen Dioxide\n",
        "*  PM10 Particulate matter\n",
        "\n",
        "We have taken the daily mean data for the year up to now (from 13th December 2020 to 7th December 2021).\n",
        "\n",
        "To get a feel for the data, take a look at it in Google sheets [here](https://github.com/futureCodersSE/python-fundamentals/blob/main/air-pollutants-daily-mean.csv)"
      ],
      "metadata": {
        "id": "nzlpiziM7EBY"
      }
    },
    {
      "cell_type": "markdown",
      "source": [
        "## 1.  To get started\n",
        "\n",
        "The function get_data() will open the data sheet, will read the rows of data and will return a list of records (dictionaries), each record containing a row of data paired with data labels.\n",
        "\n",
        "Run this code to get the data in a form that you can work with in Python, talk about what the data looks like"
      ],
      "metadata": {
        "id": "JnmABlMl9qae"
      }
    },
    {
      "cell_type": "code",
      "execution_count": null,
      "metadata": {
        "id": "SbgdSAFO9gju"
      },
      "outputs": [],
      "source": [
        "import csv\n",
        "import urllib.request\n",
        "\n",
        "def get_data():\n",
        "    url = 'https://raw.githubusercontent.com/futureCodersSE/python-fundamentals/main/air-pollutants-daily-mean.csv'\n",
        "    response = urllib.request.urlopen(url)\n",
        "    lines = [l.decode('utf-8') for l in response.readlines()]\n",
        "    data = csv.reader(lines)\n",
        "    line_count = 0\n",
        "    records = []\n",
        "    for row in data:\n",
        "        if line_count == 0:\n",
        "            pass\n",
        "        elif line_count == 1:\n",
        "            keys = row\n",
        "        else:\n",
        "            values = row\n",
        "            new_record = {k:v for k,v in zip(keys,values)}\n",
        "            records.append(new_record)\n",
        "        line_count += 1\n",
        "    return records\n",
        "\n",
        "air_data = get_data()"
      ]
    },
    {
      "cell_type": "code",
      "source": [
        "print(air_data)"
      ],
      "metadata": {
        "id": "o1rUCTDE9wu-"
      },
      "execution_count": null,
      "outputs": []
    },
    {
      "cell_type": "markdown",
      "source": [
        "## 2 As a team write a function that will print the data in rows, using a **for** loop."
      ],
      "metadata": {
        "id": "-YiFOvqHRX35"
      }
    },
    {
      "cell_type": "code",
      "source": [
        "def display_data_rows(data):\n",
        "  # add a for loop using the in operator ( for row in data:) and print the row each time\n",
        "\n",
        "\n",
        "display_data_rows(air_data)"
      ],
      "metadata": {
        "id": "KyVB-kiaRhUK"
      },
      "execution_count": null,
      "outputs": []
    },
    {
      "cell_type": "markdown",
      "source": [
        "Play around with this function.  You can print individual items from a row using the 'key'.  E.g. print(row['Date'])  will print the actual date from the row (e.g. 13/12/2020)\n",
        "\n",
        "Try these:  \n",
        "* Print just the Nitric Oxide levels as a list (print the heading Nitric Oxide Levels first, then the list)  \n",
        "\n",
        "* Calculate the total of all the PM10 particulate matter for the year (you will need to convert each to float in order to do this)\n",
        "\n",
        "* use len to find out how many items are in the list  \n",
        "\n",
        " (There is a notebook for practice [here](https://github.com/futureCodersSE/python-fundamentals/blob/main/Practice_Notebook.ipynb) )\n",
        "\n"
      ],
      "metadata": {
        "id": "pc2oynH5WYtB"
      }
    },
    {
      "cell_type": "markdown",
      "source": [
        "## 3.  You are going to write a program that will do the following:\n",
        "\n",
        "*  Show a menu with a range of options to calculate and display statistics from the data\n",
        "*  The menu can contain things such as:\n",
        "* * What problems does Nitric Oxide cause for humans and the environment (text displayed to explain this)\n",
        "* * What problems does Nitrogen Dioxide cause for humans and the environment  (text displayed to explain this)\n",
        "* * What problems does PM10 particular matter cause for humans and the environment  (text displayed to explain this)  \n",
        "* * List of Nitric Oxide levels each day\n",
        "* * List of Nitrogen Oxide levels each day\n",
        "* * List of PM10 particulate matter levels each day\n",
        "* * Average daily level of Nitric Oxide for the year to December 2021\n",
        "* * Average daily level of Nitrogen Dioxide for the year to December 2021\n",
        "* * Average daily level of PM10 particulate matter for the year to December 2021\n",
        "\n",
        "You can add more options if your team feels confident to do so.\n"
      ],
      "metadata": {
        "id": "8t0gA8pX8cRJ"
      }
    },
    {
      "cell_type": "markdown",
      "source": [
        "---\n",
        "**To get this task started.  Think about what is needed:**\n",
        "\n",
        "Someone will need to research Nitric Oxide to get some text to show  \n",
        "Someone will need to research Nitrogen Dioxide to get some text to show  \n",
        "Someone will need to research PM10 particulate matter to get some text to show  \n",
        "Someone will need to write a Python function that will print the text for Nitric Oxide  \n",
        "Someone will need to write a Python function that will print the text for Nitrogen Dioxide  \n",
        "Someone will need to write a Python function that will print the text for PM10 particulate matter  \n",
        "Someone will need to write a Python function that will display the levels of Nitric Oxide for each day (with headings)  \n",
        "Someone will need to write a Python function that will display the levels of Nitrogen Dioxide for each day (with headings)  \n",
        "Somone will need to write a Python function that will display the levels of PM10 particulate matter for each day (with headings)  \n",
        "Someone will need to write a Python function that will calculate the average daily mean for Nitric Oxide  \n",
        "Someone will need to write a Python function that will calculate the average daily mean for Nitrogen Dioxide  \n",
        "Someone will need to write a Python function that will calculate the average daily mean for PM10 particulate matter\n",
        "\n",
        "AND  \n",
        "\n",
        "Someone will need to write the function that will show the menu and run the correct function depending on what the user chooses, showing an error message if the user chooses and option that doesn't exist and repeating until the user chooses to exit the program."
      ],
      "metadata": {
        "id": "IqDZDpAz9-4G"
      }
    },
    {
      "cell_type": "markdown",
      "source": [
        "---\n",
        "## 3.  Divide the work up between you\n",
        "* form small groups to work on sets of tasks (some are very similar)\n",
        "* one group or person will need to take control of the code cell below to build the final program\n",
        "* allocate tasks to groups\n",
        "* set times to get back together as a group to check on progress\n",
        "* develop text descriptions and functions separately, test them and then only add them here when they are fully working (There is a notebook for practice [here](https://github.com/futureCodersSE/python-fundamentals/blob/main/Practice_Notebook.ipynb) )  \n",
        "\n",
        "Enter your final solution in the code cell below, placing the code where it is indicated."
      ],
      "metadata": {
        "id": "V5tpwd4__yWO"
      }
    },
    {
      "cell_type": "code",
      "source": [
        "# add your functions below here\n",
        "\n",
        "\n",
        "\n",
        "\n",
        "def show_air_pollutant_info(data):\n",
        "  # add your menu below here, to call the functions defined above here \n",
        "\n",
        "\n",
        "\n",
        "\n",
        "\n",
        "# do not remove this line, it will run the program\n",
        "show_air_pollutant_info(air_data)"
      ],
      "metadata": {
        "id": "wwaLe9eo87IA"
      },
      "execution_count": null,
      "outputs": []
    }
  ]
}