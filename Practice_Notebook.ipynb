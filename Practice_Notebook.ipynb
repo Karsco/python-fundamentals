{
  "nbformat": 4,
  "nbformat_minor": 0,
  "metadata": {
    "colab": {
      "name": "Practice Notebook.ipynb",
      "provenance": [],
      "collapsed_sections": [],
      "authorship_tag": "ABX9TyPXEIn3rhjYtAx2y+caLv61",
      "include_colab_link": true
    },
    "kernelspec": {
      "name": "python3",
      "display_name": "Python 3"
    },
    "language_info": {
      "name": "python"
    }
  },
  "cells": [
    {
      "cell_type": "markdown",
      "metadata": {
        "id": "view-in-github",
        "colab_type": "text"
      },
      "source": [
        "<a href=\"https://colab.research.google.com/github/futureCodersSE/python-fundamentals/blob/main/Practice_Notebook.ipynb\" target=\"_parent\"><img src=\"https://colab.research.google.com/assets/colab-badge.svg\" alt=\"Open In Colab\"/></a>"
      ]
    },
    {
      "cell_type": "markdown",
      "source": [
        "# For practice\n",
        "\n",
        "Use this notebook to practice writing the functions needed for the main project.  \n",
        "\n",
        "Test them here and when they are fully working, and you are happy with them, you can copy the whole function into the team project worksheet (by sending the code to the person who is managing the main program."
      ],
      "metadata": {
        "id": "0dtAYqP1ByIl"
      }
    },
    {
      "cell_type": "code",
      "execution_count": null,
      "metadata": {
        "id": "95W2Ab-yBvcc"
      },
      "outputs": [],
      "source": [
        ""
      ]
    }
  ]
}