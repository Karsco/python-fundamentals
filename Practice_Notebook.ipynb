{
  "nbformat": 4,
  "nbformat_minor": 0,
  "metadata": {
    "colab": {
      "name": "Practice Notebook.ipynb",
      "provenance": [],
      "collapsed_sections": [],
      "authorship_tag": "ABX9TyPDwYNGB4KNMoYEoW1s4W/t",
      "include_colab_link": true
    },
    "kernelspec": {
      "name": "python3",
      "display_name": "Python 3"
    },
    "language_info": {
      "name": "python"
    }
  },
  "cells": [
    {
      "cell_type": "markdown",
      "metadata": {
        "id": "view-in-github",
        "colab_type": "text"
      },
      "source": [
        "<a href=\"https://colab.research.google.com/github/futureCodersSE/python-fundamentals/blob/main/Practice_Notebook.ipynb\" target=\"_parent\"><img src=\"https://colab.research.google.com/assets/colab-badge.svg\" alt=\"Open In Colab\"/></a>"
      ]
    },
    {
      "cell_type": "markdown",
      "source": [
        "# For practice\n",
        "\n",
        "Use this notebook to practice writing the functions needed for the main project.  \n",
        "\n",
        "Test them here and when they are fully working, and you are happy with them, you can copy the whole function into the team project worksheet (by sending the code to the person who is managing the main program."
      ],
      "metadata": {
        "id": "0dtAYqP1ByIl"
      }
    },
    {
      "cell_type": "code",
      "execution_count": null,
      "metadata": {
        "id": "95W2Ab-yBvcc"
      },
      "outputs": [],
      "source": [
        "# Run this code everytime you open this notebook, to get the data\n",
        "import csv\n",
        "import urllib.request\n",
        "\n",
        "def get_data():\n",
        "    url = 'https://raw.githubusercontent.com/futureCodersSE/python-fundamentals/main/air-pollutants-daily-mean.csv'\n",
        "    response = urllib.request.urlopen(url)\n",
        "    lines = [l.decode('utf-8') for l in response.readlines()]\n",
        "    data = csv.reader(lines)\n",
        "    line_count = 0\n",
        "    records = []\n",
        "    for row in data:\n",
        "        if line_count == 0:\n",
        "            pass\n",
        "        elif line_count == 1:\n",
        "            keys = row\n",
        "        else:\n",
        "            values = row\n",
        "            new_record = {k:v for k,v in zip(keys,values)}\n",
        "            records.append(new_record)\n",
        "        line_count += 1\n",
        "    return records\n",
        "\n",
        "air_data = get_data()"
      ]
    },
    {
      "cell_type": "code",
      "source": [
        "print(air_data)"
      ],
      "metadata": {
        "id": "-vnmvEtJENEn"
      },
      "execution_count": null,
      "outputs": []
    },
    {
      "cell_type": "markdown",
      "source": [
        "**Use the code cell below to practice and to develop your functions for individual menu options**\n",
        "\n",
        "---\n",
        "\n"
      ],
      "metadata": {
        "id": "bTuI1r06EPYc"
      }
    },
    {
      "cell_type": "code",
      "source": [
        ""
      ],
      "metadata": {
        "id": "ia-9ERQNEaKV"
      },
      "execution_count": null,
      "outputs": []
    }
  ]
}